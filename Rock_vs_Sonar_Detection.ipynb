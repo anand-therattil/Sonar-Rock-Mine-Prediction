{
  "nbformat": 4,
  "nbformat_minor": 0,
  "metadata": {
    "colab": {
      "provenance": [],
      "authorship_tag": "ABX9TyNRMdG61jroOqMLmTX1SdSQ",
      "include_colab_link": true
    },
    "kernelspec": {
      "name": "python3",
      "display_name": "Python 3"
    },
    "language_info": {
      "name": "python"
    }
  },
  "cells": [
    {
      "cell_type": "markdown",
      "metadata": {
        "id": "view-in-github",
        "colab_type": "text"
      },
      "source": [
        "<a href=\"https://colab.research.google.com/github/anand-therattil/Sonar-Rock-Mine-Prediction/blob/Plotting-Data-using-PCA-and-T-SNE/Rock_vs_Sonar_Detection.ipynb\" target=\"_parent\"><img src=\"https://colab.research.google.com/assets/colab-badge.svg\" alt=\"Open In Colab\"/></a>"
      ]
    },
    {
      "cell_type": "markdown",
      "source": [
        "### Importing Modules"
      ],
      "metadata": {
        "id": "MJLsni1yEX4y"
      }
    },
    {
      "cell_type": "code",
      "execution_count": 1,
      "metadata": {
        "id": "XBkY8wGFA8qQ"
      },
      "outputs": [],
      "source": [
        "import pandas as pd \n",
        "import numpy as np\n",
        "from sklearn.model_selection import train_test_split\n",
        "from sklearn.linear_model import LogisticRegression\n",
        "from sklearn.metrics import accuracy_score\n",
        "from google.colab import drive\n",
        "import matplotlib.pyplot as plt\n",
        "from sklearn.manifold import TSNE\n",
        "from sklearn.decomposition import PCA\n",
        "from sklearn.preprocessing import StandardScaler\n",
        "import seaborn as sn"
      ]
    },
    {
      "cell_type": "markdown",
      "source": [
        "### Data Loading & Preprocessing"
      ],
      "metadata": {
        "id": "4CxO53Q0EiXv"
      }
    },
    {
      "cell_type": "code",
      "source": [
        "# To be used for the drive connection\n",
        "drive.mount(r'/content/drive')"
      ],
      "metadata": {
        "colab": {
          "base_uri": "https://localhost:8080/"
        },
        "id": "N1VuxLlxESK5",
        "outputId": "19eeb67f-18b0-4438-c427-479fab7a4e61"
      },
      "execution_count": 2,
      "outputs": [
        {
          "output_type": "stream",
          "name": "stdout",
          "text": [
            "Drive already mounted at /content/drive; to attempt to forcibly remount, call drive.mount(\"/content/drive\", force_remount=True).\n"
          ]
        }
      ]
    },
    {
      "cell_type": "code",
      "source": [
        "data = pd.read_csv(r'drive/MyDrive/Colab Notebooks/Dataset/sonar.all-data.csv',header=None)\n",
        "data[60].value_counts()"
      ],
      "metadata": {
        "colab": {
          "base_uri": "https://localhost:8080/"
        },
        "id": "oFKRLGCLGOxY",
        "outputId": "4d12a04d-3bf4-4f48-a6e6-46c295b6937a"
      },
      "execution_count": 3,
      "outputs": [
        {
          "output_type": "execute_result",
          "data": {
            "text/plain": [
              "M    111\n",
              "R     97\n",
              "Name: 60, dtype: int64"
            ]
          },
          "metadata": {},
          "execution_count": 3
        }
      ]
    },
    {
      "cell_type": "code",
      "source": [
        "independent = data.drop(columns=60,axis=1)\n",
        "dependent = data[60]"
      ],
      "metadata": {
        "id": "xo0Z89DJQHvY"
      },
      "execution_count": 4,
      "outputs": []
    },
    {
      "cell_type": "markdown",
      "source": [
        "## PLotting of Data Using T-SNE "
      ],
      "metadata": {
        "id": "DUdFb7wZS4vf"
      }
    },
    {
      "cell_type": "code",
      "source": [
        "standardized_data = StandardScaler().fit_transform(independent)\n",
        "print(standardized_data.shape)"
      ],
      "metadata": {
        "colab": {
          "base_uri": "https://localhost:8080/"
        },
        "id": "R0GXhIUcS4C2",
        "outputId": "28e142d7-909c-4c0b-ce13-1762f3fb1755"
      },
      "execution_count": 5,
      "outputs": [
        {
          "output_type": "stream",
          "name": "stdout",
          "text": [
            "(208, 60)\n"
          ]
        }
      ]
    },
    {
      "cell_type": "markdown",
      "source": [
        "#### PCA Plotting "
      ],
      "metadata": {
        "id": "_P4l0zySXvgh"
      }
    },
    {
      "cell_type": "code",
      "source": [
        "model = PCA(n_components = 2)  \n",
        "PCA_data = model.fit_transform(independent)"
      ],
      "metadata": {
        "id": "OYbmbCCfXUC1"
      },
      "execution_count": 6,
      "outputs": []
    },
    {
      "cell_type": "code",
      "source": [
        "PCA_data = np.vstack((PCA_data.T, dependent)).T\n",
        "PCA_df = pd.DataFrame(data = PCA_data,\n",
        "     columns =(\"Dim_1\", \"Dim_2\", \"label\"))"
      ],
      "metadata": {
        "id": "8w6sEeJuXXmv"
      },
      "execution_count": 7,
      "outputs": []
    },
    {
      "cell_type": "code",
      "source": [
        "sn.FacetGrid(PCA_df, hue =\"label\").map(\n",
        "       plt.scatter, 'Dim_1', 'Dim_2').add_legend()\n",
        "plt.show()"
      ],
      "metadata": {
        "colab": {
          "base_uri": "https://localhost:8080/",
          "height": 225
        },
        "id": "OxUnGuw_XazU",
        "outputId": "b0069d01-a55f-4d24-b9fc-e4a1908b424f"
      },
      "execution_count": 8,
      "outputs": [
        {
          "output_type": "display_data",
          "data": {
            "text/plain": [
              "<Figure size 260.625x216 with 1 Axes>"
            ],
            "image/png": "[encoded data removed]"
          },
          "metadata": {
            "needs_background": "light"
          }
        }
      ]
    },
    {
      "cell_type": "markdown",
      "source": [
        "#### TSNE Plotting"
      ],
      "metadata": {
        "id": "koOJ0faJX2WZ"
      }
    },
    {
      "cell_type": "code",
      "source": [
        "model = TSNE(n_components = 2, random_state = 0,learning_rate='auto',init='random')\n",
        "tsne_data = model.fit_transform(independent)"
      ],
      "metadata": {
        "id": "sqZgXgAkTgr5"
      },
      "execution_count": 9,
      "outputs": []
    },
    {
      "cell_type": "code",
      "source": [
        "tsne_data = np.vstack((tsne_data.T, dependent)).T\n",
        "tsne_df = pd.DataFrame(data = tsne_data,\n",
        "     columns =(\"Dim_1\", \"Dim_2\", \"label\"))"
      ],
      "metadata": {
        "id": "xWdO9_cETsmT"
      },
      "execution_count": 10,
      "outputs": []
    },
    {
      "cell_type": "code",
      "source": [
        "sn.FacetGrid(tsne_df, hue =\"label\").map(\n",
        "       plt.scatter, 'Dim_1', 'Dim_2').add_legend()\n",
        " \n",
        "plt.show()"
      ],
      "metadata": {
        "colab": {
          "base_uri": "https://localhost:8080/",
          "height": 225
        },
        "id": "ZXY_yB4IT66g",
        "outputId": "5ce157a6-42b6-4f6e-bf86-78f52411e027"
      },
      "execution_count": 11,
      "outputs": [
        {
          "output_type": "display_data",
          "data": {
            "text/plain": [
              "<Figure size 260.625x216 with 1 Axes>"
            ],
            "image/png": "[encoded data removed]"
          },
          "metadata": {
            "needs_background": "light"
          }
        }
      ]
    },
    {
      "cell_type": "markdown",
      "source": [
        "## Data Splitting and Training Model "
      ],
      "metadata": {
        "id": "om5za7_fS_YL"
      }
    },
    {
      "cell_type": "code",
      "source": [
        "x_train,x_test,y_train,y_test =train_test_split(independent,dependent,test_size=0.1,stratify=dependent,random_state=1)"
      ],
      "metadata": {
        "id": "E4QnMpP9QXpL"
      },
      "execution_count": 12,
      "outputs": []
    },
    {
      "cell_type": "code",
      "source": [
        "model =LogisticRegression()\n",
        "model.fit(x_train,y_train)"
      ],
      "metadata": {
        "colab": {
          "base_uri": "https://localhost:8080/"
        },
        "id": "cL-kN2a9THF6",
        "outputId": "f3b6eb14-ace8-45bd-e9ad-e1ae0426754d"
      },
      "execution_count": 13,
      "outputs": [
        {
          "output_type": "execute_result",
          "data": {
            "text/plain": [
              "LogisticRegression()"
            ]
          },
          "metadata": {},
          "execution_count": 13
        }
      ]
    },
    {
      "cell_type": "code",
      "source": [
        "x_t_predict = model.predict(x_train)\n",
        "training_acc = accuracy_score(x_t_predict,y_train)\n",
        "print(training_acc*100)"
      ],
      "metadata": {
        "colab": {
          "base_uri": "https://localhost:8080/"
        },
        "id": "xpa0IxOqTcG6",
        "outputId": "bd09c7d4-7e36-4d88-fd5e-8ad9960eaad3"
      },
      "execution_count": 14,
      "outputs": [
        {
          "output_type": "stream",
          "name": "stdout",
          "text": [
            "83.42245989304813\n"
          ]
        }
      ]
    },
    {
      "cell_type": "code",
      "source": [
        "x_t_predict = model.predict(x_test)\n",
        "testing_acc = accuracy_score(x_t_predict,y_test)\n",
        "print(testing_acc*100)"
      ],
      "metadata": {
        "colab": {
          "base_uri": "https://localhost:8080/"
        },
        "id": "zKegSlycT06Y",
        "outputId": "84dae07d-2569-4745-a73e-aa3b00674fa5"
      },
      "execution_count": 15,
      "outputs": [
        {
          "output_type": "stream",
          "name": "stdout",
          "text": [
            "76.19047619047619\n"
          ]
        }
      ]
    },
    {
      "cell_type": "code",
      "source": [
        "input_data = (0.0200,0.0371,0.0428,0.0207,0.0954,0.0986,0.1539,0.1601,0.3109,0.2111,0.1609,0.1582,0.2238,0.0645,0.0660,0.2273,0.3100,0.2999,0.5078,0.4797,0.5783,0.5071,0.4328,0.5550,0.6711,0.6415,0.7104,0.8080,0.6791,0.3857,0.1307,0.2604,0.5121,0.7547,0.8537,0.8507,0.6692,0.6097,0.4943,0.2744,0.0510,0.2834,0.2825,0.4256,0.2641,0.1386,0.1051,0.1343,0.0383,0.0324,0.0232,0.0027,0.0065,0.0159,0.0072,0.0167,0.0180,0.0084,0.0090,0.0032)\n",
        "input_data = np.asarray(input_data)\n",
        "input_data = input_data.reshape([1,-1])\n",
        "predict = model.predict(input_data)\n",
        "if(predict[0]==\"R\"):\n",
        "    print(\"The object is Rock !\")\n",
        "else:\n",
        "    print(\"The object is Mine !\")"
      ],
      "metadata": {
        "colab": {
          "base_uri": "https://localhost:8080/"
        },
        "id": "USugvvJwUfdf",
        "outputId": "a2e4ba7d-dee6-413f-d3fd-2d5988614ba0"
      },
      "execution_count": 16,
      "outputs": [
        {
          "output_type": "stream",
          "name": "stdout",
          "text": [
            "The object is Rock !\n"
          ]
        }
      ]
    },
    {
      "cell_type": "markdown",
      "source": [],
      "metadata": {
        "id": "rd1rw9qlEVz1"
      }
    }
  ]
}